{
 "cells": [
  {
   "cell_type": "markdown",
   "metadata": {},
   "source": [
    "# Task 1\n",
    "\n",
    "---\n",
    "\n",
    "## Web scraping and analysis\n",
    "\n",
    "This Jupyter notebook includes some code to get you started with web scraping. We will use a package called `BeautifulSoup` to collect the data from the web. Once you've collected your data and saved it into a local `.csv` file you should start with your analysis.\n",
    "\n",
    "### Scraping data from Skytrax\n",
    "\n",
    "If you visit [https://www.airlinequality.com] you can see that there is a lot of data there. For this task, we are only interested in reviews related to British Airways and the Airline itself.\n",
    "\n",
    "If you navigate to this link: [https://www.airlinequality.com/airline-reviews/british-airways] you will see this data. Now, we can use `Python` and `BeautifulSoup` to collect all the links to the reviews and then to collect the text data on each of the individual review links."
   ]
  },
  {
   "cell_type": "code",
   "execution_count": 1,
   "metadata": {},
   "outputs": [],
   "source": [
    "import requests\n",
    "from bs4 import BeautifulSoup\n",
    "import pandas as pd"
   ]
  },
  {
   "cell_type": "code",
   "execution_count": 2,
   "metadata": {},
   "outputs": [
    {
     "name": "stdout",
     "output_type": "stream",
     "text": [
      "Scraping page 1\n",
      "   ---> 100 total reviews\n",
      "Scraping page 2\n",
      "   ---> 200 total reviews\n",
      "Scraping page 3\n",
      "   ---> 300 total reviews\n",
      "Scraping page 4\n",
      "   ---> 400 total reviews\n",
      "Scraping page 5\n",
      "   ---> 500 total reviews\n",
      "Scraping page 6\n",
      "   ---> 600 total reviews\n",
      "Scraping page 7\n",
      "   ---> 700 total reviews\n",
      "Scraping page 8\n",
      "   ---> 800 total reviews\n",
      "Scraping page 9\n",
      "   ---> 900 total reviews\n",
      "Scraping page 10\n",
      "   ---> 1000 total reviews\n"
     ]
    }
   ],
   "source": [
    "base_url = \"https://www.airlinequality.com/airline-reviews/british-airways\"\n",
    "pages = 10\n",
    "page_size = 100\n",
    "\n",
    "reviews = []\n",
    "\n",
    "# for i in range(1, pages + 1):\n",
    "for i in range(1, pages + 1):\n",
    "\n",
    "    print(f\"Scraping page {i}\")\n",
    "\n",
    "    # Create URL to collect links from paginated data\n",
    "    url = f\"{base_url}/page/{i}/?sortby=post_date%3ADesc&pagesize={page_size}\"\n",
    "\n",
    "    # Collect HTML data from this page\n",
    "    response = requests.get(url)\n",
    "\n",
    "    # Parse content\n",
    "    content = response.content\n",
    "    parsed_content = BeautifulSoup(content, 'html.parser')\n",
    "    for para in parsed_content.find_all(\"div\", {\"class\": \"text_content\"}):\n",
    "        reviews.append(para.get_text())\n",
    "    \n",
    "    print(f\"   ---> {len(reviews)} total reviews\")"
   ]
  },
  {
   "cell_type": "code",
   "execution_count": 3,
   "metadata": {},
   "outputs": [
    {
     "data": {
      "text/html": [
       "<div>\n",
       "<style scoped>\n",
       "    .dataframe tbody tr th:only-of-type {\n",
       "        vertical-align: middle;\n",
       "    }\n",
       "\n",
       "    .dataframe tbody tr th {\n",
       "        vertical-align: top;\n",
       "    }\n",
       "\n",
       "    .dataframe thead th {\n",
       "        text-align: right;\n",
       "    }\n",
       "</style>\n",
       "<table border=\"1\" class=\"dataframe\">\n",
       "  <thead>\n",
       "    <tr style=\"text-align: right;\">\n",
       "      <th></th>\n",
       "      <th>reviews</th>\n",
       "    </tr>\n",
       "  </thead>\n",
       "  <tbody>\n",
       "    <tr>\n",
       "      <th>0</th>\n",
       "      <td>Not Verified |  May 3, flew from Seattle to He...</td>\n",
       "    </tr>\n",
       "    <tr>\n",
       "      <th>1</th>\n",
       "      <td>✅ Trip Verified | I went through three flights...</td>\n",
       "    </tr>\n",
       "    <tr>\n",
       "      <th>2</th>\n",
       "      <td>✅ Trip Verified | An excellent flight in Club ...</td>\n",
       "    </tr>\n",
       "    <tr>\n",
       "      <th>3</th>\n",
       "      <td>✅ Trip Verified | The flight schedule was dela...</td>\n",
       "    </tr>\n",
       "    <tr>\n",
       "      <th>4</th>\n",
       "      <td>✅ Trip Verified | The worst experience in all ...</td>\n",
       "    </tr>\n",
       "  </tbody>\n",
       "</table>\n",
       "</div>"
      ],
      "text/plain": [
       "                                             reviews\n",
       "0  Not Verified |  May 3, flew from Seattle to He...\n",
       "1  ✅ Trip Verified | I went through three flights...\n",
       "2  ✅ Trip Verified | An excellent flight in Club ...\n",
       "3  ✅ Trip Verified | The flight schedule was dela...\n",
       "4  ✅ Trip Verified | The worst experience in all ..."
      ]
     },
     "execution_count": 3,
     "metadata": {},
     "output_type": "execute_result"
    }
   ],
   "source": [
    "df = pd.DataFrame()\n",
    "df[\"reviews\"] = reviews\n",
    "df.head()"
   ]
  },
  {
   "cell_type": "markdown",
   "metadata": {},
   "source": [
    "Congratulations! Now you have your dataset for this task! The loops above collected 1000 reviews by iterating through the paginated pages on the website. However, if you want to collect more data, try increasing the number of pages!\n",
    "\n",
    " The next thing that you should do is clean this data to remove any unnecessary text from each of the rows. For example, \"✅ Trip Verified\" can be removed from each row if it exists, as it's not relevant to what we want to investigate."
   ]
  },
  {
   "cell_type": "code",
   "execution_count": 6,
   "metadata": {},
   "outputs": [
    {
     "data": {
      "text/html": [
       "<div>\n",
       "<style scoped>\n",
       "    .dataframe tbody tr th:only-of-type {\n",
       "        vertical-align: middle;\n",
       "    }\n",
       "\n",
       "    .dataframe tbody tr th {\n",
       "        vertical-align: top;\n",
       "    }\n",
       "\n",
       "    .dataframe thead th {\n",
       "        text-align: right;\n",
       "    }\n",
       "</style>\n",
       "<table border=\"1\" class=\"dataframe\">\n",
       "  <thead>\n",
       "    <tr style=\"text-align: right;\">\n",
       "      <th></th>\n",
       "      <th>reviews</th>\n",
       "    </tr>\n",
       "  </thead>\n",
       "  <tbody>\n",
       "    <tr>\n",
       "      <th>0</th>\n",
       "      <td>Not Verified |  May 3, flew from Seattle to He...</td>\n",
       "    </tr>\n",
       "    <tr>\n",
       "      <th>1</th>\n",
       "      <td>✅ Trip Verified | I went through three flights...</td>\n",
       "    </tr>\n",
       "    <tr>\n",
       "      <th>2</th>\n",
       "      <td>✅ Trip Verified | An excellent flight in Club ...</td>\n",
       "    </tr>\n",
       "    <tr>\n",
       "      <th>3</th>\n",
       "      <td>✅ Trip Verified | The flight schedule was dela...</td>\n",
       "    </tr>\n",
       "    <tr>\n",
       "      <th>4</th>\n",
       "      <td>✅ Trip Verified | The worst experience in all ...</td>\n",
       "    </tr>\n",
       "    <tr>\n",
       "      <th>...</th>\n",
       "      <td>...</td>\n",
       "    </tr>\n",
       "    <tr>\n",
       "      <th>995</th>\n",
       "      <td>✅ Trip Verified |  Aberdeen to Abu Dhabi via L...</td>\n",
       "    </tr>\n",
       "    <tr>\n",
       "      <th>996</th>\n",
       "      <td>✅ Trip Verified |  Prague to Denver via London...</td>\n",
       "    </tr>\n",
       "    <tr>\n",
       "      <th>997</th>\n",
       "      <td>✅ Trip Verified |  Seville to Gatwick. If it w...</td>\n",
       "    </tr>\n",
       "    <tr>\n",
       "      <th>998</th>\n",
       "      <td>✅ Trip Verified |  London to Amsterdam. A dela...</td>\n",
       "    </tr>\n",
       "    <tr>\n",
       "      <th>999</th>\n",
       "      <td>✅ Trip Verified |  Gatwick to Barcelona . Chec...</td>\n",
       "    </tr>\n",
       "  </tbody>\n",
       "</table>\n",
       "<p>1000 rows × 1 columns</p>\n",
       "</div>"
      ],
      "text/plain": [
       "                                               reviews\n",
       "0    Not Verified |  May 3, flew from Seattle to He...\n",
       "1    ✅ Trip Verified | I went through three flights...\n",
       "2    ✅ Trip Verified | An excellent flight in Club ...\n",
       "3    ✅ Trip Verified | The flight schedule was dela...\n",
       "4    ✅ Trip Verified | The worst experience in all ...\n",
       "..                                                 ...\n",
       "995  ✅ Trip Verified |  Aberdeen to Abu Dhabi via L...\n",
       "996  ✅ Trip Verified |  Prague to Denver via London...\n",
       "997  ✅ Trip Verified |  Seville to Gatwick. If it w...\n",
       "998  ✅ Trip Verified |  London to Amsterdam. A dela...\n",
       "999  ✅ Trip Verified |  Gatwick to Barcelona . Chec...\n",
       "\n",
       "[1000 rows x 1 columns]"
      ]
     },
     "execution_count": 6,
     "metadata": {},
     "output_type": "execute_result"
    }
   ],
   "source": [
    "df"
   ]
  },
  {
   "cell_type": "code",
   "execution_count": 7,
   "metadata": {},
   "outputs": [],
   "source": [
    "df.reviews = df.reviews.str.split(\"|\",expand=True)[1]"
   ]
  },
  {
   "cell_type": "code",
   "execution_count": 8,
   "metadata": {},
   "outputs": [
    {
     "data": {
      "text/html": [
       "<div>\n",
       "<style scoped>\n",
       "    .dataframe tbody tr th:only-of-type {\n",
       "        vertical-align: middle;\n",
       "    }\n",
       "\n",
       "    .dataframe tbody tr th {\n",
       "        vertical-align: top;\n",
       "    }\n",
       "\n",
       "    .dataframe thead th {\n",
       "        text-align: right;\n",
       "    }\n",
       "</style>\n",
       "<table border=\"1\" class=\"dataframe\">\n",
       "  <thead>\n",
       "    <tr style=\"text-align: right;\">\n",
       "      <th></th>\n",
       "      <th>reviews</th>\n",
       "    </tr>\n",
       "  </thead>\n",
       "  <tbody>\n",
       "    <tr>\n",
       "      <th>0</th>\n",
       "      <td>May 3, flew from Seattle to Heathrow then to...</td>\n",
       "    </tr>\n",
       "    <tr>\n",
       "      <th>1</th>\n",
       "      <td>I went through three flights to reach my dest...</td>\n",
       "    </tr>\n",
       "    <tr>\n",
       "      <th>2</th>\n",
       "      <td>An excellent flight in Club World on British ...</td>\n",
       "    </tr>\n",
       "    <tr>\n",
       "      <th>3</th>\n",
       "      <td>The flight schedule was delayed for one hour....</td>\n",
       "    </tr>\n",
       "    <tr>\n",
       "      <th>4</th>\n",
       "      <td>The worst experience in all my years of trave...</td>\n",
       "    </tr>\n",
       "    <tr>\n",
       "      <th>...</th>\n",
       "      <td>...</td>\n",
       "    </tr>\n",
       "    <tr>\n",
       "      <th>995</th>\n",
       "      <td>Aberdeen to Abu Dhabi via London. Despite be...</td>\n",
       "    </tr>\n",
       "    <tr>\n",
       "      <th>996</th>\n",
       "      <td>Prague to Denver via London. I almost missed...</td>\n",
       "    </tr>\n",
       "    <tr>\n",
       "      <th>997</th>\n",
       "      <td>Seville to Gatwick. If it wasn't for Avios a...</td>\n",
       "    </tr>\n",
       "    <tr>\n",
       "      <th>998</th>\n",
       "      <td>London to Amsterdam. A delayed BA flight by ...</td>\n",
       "    </tr>\n",
       "    <tr>\n",
       "      <th>999</th>\n",
       "      <td>Gatwick to Barcelona . Check in efficient an...</td>\n",
       "    </tr>\n",
       "  </tbody>\n",
       "</table>\n",
       "<p>1000 rows × 1 columns</p>\n",
       "</div>"
      ],
      "text/plain": [
       "                                               reviews\n",
       "0      May 3, flew from Seattle to Heathrow then to...\n",
       "1     I went through three flights to reach my dest...\n",
       "2     An excellent flight in Club World on British ...\n",
       "3     The flight schedule was delayed for one hour....\n",
       "4     The worst experience in all my years of trave...\n",
       "..                                                 ...\n",
       "995    Aberdeen to Abu Dhabi via London. Despite be...\n",
       "996    Prague to Denver via London. I almost missed...\n",
       "997    Seville to Gatwick. If it wasn't for Avios a...\n",
       "998    London to Amsterdam. A delayed BA flight by ...\n",
       "999    Gatwick to Barcelona . Check in efficient an...\n",
       "\n",
       "[1000 rows x 1 columns]"
      ]
     },
     "execution_count": 8,
     "metadata": {},
     "output_type": "execute_result"
    }
   ],
   "source": [
    "df"
   ]
  },
  {
   "cell_type": "markdown",
   "metadata": {},
   "source": [
    "**Rule-based approach**\n",
    "\n",
    "This is a practical approach to analyzing text without training or using machine learning models. The result of this approach is a set of rules based on which the text is labeled as positive/negative/neutral. These rules are also known as lexicons. Hence, the Rule-based approach is called Lexicon based approach.\n",
    "\n",
    "Widely used lexicon-based approaches are TextBlob, VADER, SentiWordNet.\n",
    "\n",
    "**Data preprocessing steps:**\n",
    "\n",
    "Cleaning the text\n",
    "\n",
    "Tokenization\n",
    "\n",
    "Enrichment – POS tagging\n",
    "\n",
    "Stopwords removal\n",
    "\n",
    "Obtaining the stem words"
   ]
  },
  {
   "cell_type": "markdown",
   "metadata": {},
   "source": [
    "# Step 1: Cleaning the text"
   ]
  },
  {
   "cell_type": "code",
   "execution_count": 9,
   "metadata": {},
   "outputs": [
    {
     "data": {
      "text/html": [
       "<div>\n",
       "<style scoped>\n",
       "    .dataframe tbody tr th:only-of-type {\n",
       "        vertical-align: middle;\n",
       "    }\n",
       "\n",
       "    .dataframe tbody tr th {\n",
       "        vertical-align: top;\n",
       "    }\n",
       "\n",
       "    .dataframe thead th {\n",
       "        text-align: right;\n",
       "    }\n",
       "</style>\n",
       "<table border=\"1\" class=\"dataframe\">\n",
       "  <thead>\n",
       "    <tr style=\"text-align: right;\">\n",
       "      <th></th>\n",
       "      <th>reviews</th>\n",
       "      <th>Cleaned reviews</th>\n",
       "    </tr>\n",
       "  </thead>\n",
       "  <tbody>\n",
       "    <tr>\n",
       "      <th>0</th>\n",
       "      <td>May 3, flew from Seattle to Heathrow then to...</td>\n",
       "      <td>May flew from Seattle to Heathrow then to Edi...</td>\n",
       "    </tr>\n",
       "    <tr>\n",
       "      <th>1</th>\n",
       "      <td>I went through three flights to reach my dest...</td>\n",
       "      <td>I went through three flights to reach my dest...</td>\n",
       "    </tr>\n",
       "    <tr>\n",
       "      <th>2</th>\n",
       "      <td>An excellent flight in Club World on British ...</td>\n",
       "      <td>An excellent flight in Club World on British ...</td>\n",
       "    </tr>\n",
       "    <tr>\n",
       "      <th>3</th>\n",
       "      <td>The flight schedule was delayed for one hour....</td>\n",
       "      <td>The flight schedule was delayed for one hour ...</td>\n",
       "    </tr>\n",
       "    <tr>\n",
       "      <th>4</th>\n",
       "      <td>The worst experience in all my years of trave...</td>\n",
       "      <td>The worst experience in all my years of trave...</td>\n",
       "    </tr>\n",
       "  </tbody>\n",
       "</table>\n",
       "</div>"
      ],
      "text/plain": [
       "                                             reviews  \\\n",
       "0    May 3, flew from Seattle to Heathrow then to...   \n",
       "1   I went through three flights to reach my dest...   \n",
       "2   An excellent flight in Club World on British ...   \n",
       "3   The flight schedule was delayed for one hour....   \n",
       "4   The worst experience in all my years of trave...   \n",
       "\n",
       "                                     Cleaned reviews  \n",
       "0   May flew from Seattle to Heathrow then to Edi...  \n",
       "1   I went through three flights to reach my dest...  \n",
       "2   An excellent flight in Club World on British ...  \n",
       "3   The flight schedule was delayed for one hour ...  \n",
       "4   The worst experience in all my years of trave...  "
      ]
     },
     "execution_count": 9,
     "metadata": {},
     "output_type": "execute_result"
    }
   ],
   "source": [
    "import re\n",
    "\n",
    "# Define a function to clean the text\n",
    "def clean(text):\n",
    "# Remove all special characters and numericals leaving alphabets\n",
    "    text = re.sub('[^A-Za-z]+', ' ', str(text))\n",
    "    return text \n",
    "# Cleaning the text in the review column\n",
    "df['Cleaned reviews'] = df['reviews'].apply(clean)\n",
    "df.head()"
   ]
  },
  {
   "cell_type": "markdown",
   "metadata": {},
   "source": [
    "# Step 2: Tokenization"
   ]
  },
  {
   "cell_type": "markdown",
   "metadata": {},
   "source": [
    "Tokenization is the precoess of breaking the text into smaller pieces called Tokens.It can be performed at sentences(setence tokenization) or word level(word tokenization)"
   ]
  },
  {
   "cell_type": "markdown",
   "metadata": {},
   "source": [
    "# Step 3: Enrichment - POS tagging"
   ]
  },
  {
   "cell_type": "markdown",
   "metadata": {},
   "source": [
    "Part of Speech(POS) tagging is the process of converting each token into a tuple having the form (word, tag). POS tagging essential to preserve the context of the word and is essential for Lemmatization."
   ]
  },
  {
   "cell_type": "markdown",
   "metadata": {},
   "source": [
    "# Step 4: Stopwords removal "
   ]
  },
  {
   "cell_type": "markdown",
   "metadata": {},
   "source": [
    "Stopwords in English are words that carry very little useful information. We need to remove them as part of text processing. nltk has a list of stopwords of every language.  "
   ]
  },
  {
   "cell_type": "markdown",
   "metadata": {},
   "source": [
    "# Step 5: Obtaining the stem words\n",
    "A stem is a part of a word responsible for its lexical meaning. The two popular techniques of obtaining the root/stem words are Stemming and Lemmatization.\n",
    "\n",
    "The key difference is Stemming often gives some meaningless root words as it simply chops off some characters in the end. Lemmatization gives meaningful root words, however, it requires POS tags of the words."
   ]
  },
  {
   "cell_type": "markdown",
   "metadata": {},
   "source": [
    " \n",
    "```\n",
    "NLTK is a leading platform for building Python programs to work with human language data. \n",
    "\n",
    "```\n",
    "\n",
    "```\n",
    "It provides easy-to-use interfaces to over 50 corpora and lexical resources such as WordNet, along \n",
    "with a suite of text processing libraries for classification, tokenization, stemming, tagging, \n",
    "parsing, and semantic reasoning, wrappers for industrial-strength NLP libraries\n",
    "```\n",
    "\n",
    "\n"
   ]
  },
  {
   "cell_type": "code",
   "execution_count": 11,
   "metadata": {},
   "outputs": [
    {
     "name": "stderr",
     "output_type": "stream",
     "text": [
      "[nltk_data] Downloading package punkt to\n",
      "[nltk_data]     C:\\Users\\Asus\\AppData\\Roaming\\nltk_data...\n",
      "[nltk_data]   Package punkt is already up-to-date!\n",
      "[nltk_data] Downloading package stopwords to\n",
      "[nltk_data]     C:\\Users\\Asus\\AppData\\Roaming\\nltk_data...\n",
      "[nltk_data]   Package stopwords is already up-to-date!\n",
      "[nltk_data] Downloading package wordnet to\n",
      "[nltk_data]     C:\\Users\\Asus\\AppData\\Roaming\\nltk_data...\n",
      "[nltk_data]   Package wordnet is already up-to-date!\n"
     ]
    }
   ],
   "source": [
    "import nltk\n",
    "\n",
    "\"\"\"This punkt tokenizer divides a text into a list of sentences by using an unsupervised algorithm to build a model for abbreviation words, \n",
    "collocations, and words that start sentences. \"\"\"\n",
    "\n",
    "nltk.download('punkt')\n",
    "from nltk.tokenize import word_tokenize\n",
    "from nltk import pos_tag\n",
    "nltk.download('stopwords')\n",
    "from nltk.corpus import stopwords\n",
    "nltk.download('wordnet')\n",
    "from nltk.corpus import wordnet"
   ]
  },
  {
   "cell_type": "code",
   "execution_count": 15,
   "metadata": {},
   "outputs": [
    {
     "name": "stderr",
     "output_type": "stream",
     "text": [
      "[nltk_data] Downloading package omw-1.4 to\n",
      "[nltk_data]     C:\\Users\\Asus\\AppData\\Roaming\\nltk_data...\n",
      "[nltk_data]   Package omw-1.4 is already up-to-date!\n",
      "[nltk_data] Downloading package averaged_perceptron_tagger to\n",
      "[nltk_data]     C:\\Users\\Asus\\AppData\\Roaming\\nltk_data...\n",
      "[nltk_data]   Package averaged_perceptron_tagger is already up-to-\n",
      "[nltk_data]       date!\n"
     ]
    },
    {
     "data": {
      "text/html": [
       "<div>\n",
       "<style scoped>\n",
       "    .dataframe tbody tr th:only-of-type {\n",
       "        vertical-align: middle;\n",
       "    }\n",
       "\n",
       "    .dataframe tbody tr th {\n",
       "        vertical-align: top;\n",
       "    }\n",
       "\n",
       "    .dataframe thead th {\n",
       "        text-align: right;\n",
       "    }\n",
       "</style>\n",
       "<table border=\"1\" class=\"dataframe\">\n",
       "  <thead>\n",
       "    <tr style=\"text-align: right;\">\n",
       "      <th></th>\n",
       "      <th>reviews</th>\n",
       "      <th>Cleaned reviews</th>\n",
       "      <th>POS newlist</th>\n",
       "      <th>POS tagged</th>\n",
       "    </tr>\n",
       "  </thead>\n",
       "  <tbody>\n",
       "    <tr>\n",
       "      <th>0</th>\n",
       "      <td>May 3, flew from Seattle to Heathrow then to...</td>\n",
       "      <td>May flew from Seattle to Heathrow then to Edi...</td>\n",
       "      <td>[(May, n), (flew, v), (Seattle, n), (Heathrow,...</td>\n",
       "      <td>[(May, n), (flew, v), (Seattle, n), (Heathrow,...</td>\n",
       "    </tr>\n",
       "    <tr>\n",
       "      <th>1</th>\n",
       "      <td>I went through three flights to reach my dest...</td>\n",
       "      <td>I went through three flights to reach my dest...</td>\n",
       "      <td>[(went, v), (three, None), (flights, n), (reac...</td>\n",
       "      <td>[(went, v), (three, None), (flights, n), (reac...</td>\n",
       "    </tr>\n",
       "    <tr>\n",
       "      <th>2</th>\n",
       "      <td>An excellent flight in Club World on British ...</td>\n",
       "      <td>An excellent flight in Club World on British ...</td>\n",
       "      <td>[(excellent, a), (flight, n), (Club, n), (Worl...</td>\n",
       "      <td>[(excellent, a), (flight, n), (Club, n), (Worl...</td>\n",
       "    </tr>\n",
       "    <tr>\n",
       "      <th>3</th>\n",
       "      <td>The flight schedule was delayed for one hour....</td>\n",
       "      <td>The flight schedule was delayed for one hour ...</td>\n",
       "      <td>[(flight, n), (schedule, n), (delayed, v), (on...</td>\n",
       "      <td>[(flight, n), (schedule, n), (delayed, v), (on...</td>\n",
       "    </tr>\n",
       "    <tr>\n",
       "      <th>4</th>\n",
       "      <td>The worst experience in all my years of trave...</td>\n",
       "      <td>The worst experience in all my years of trave...</td>\n",
       "      <td>[(worst, a), (experience, n), (years, n), (tra...</td>\n",
       "      <td>[(worst, a), (experience, n), (years, n), (tra...</td>\n",
       "    </tr>\n",
       "  </tbody>\n",
       "</table>\n",
       "</div>"
      ],
      "text/plain": [
       "                                             reviews  \\\n",
       "0    May 3, flew from Seattle to Heathrow then to...   \n",
       "1   I went through three flights to reach my dest...   \n",
       "2   An excellent flight in Club World on British ...   \n",
       "3   The flight schedule was delayed for one hour....   \n",
       "4   The worst experience in all my years of trave...   \n",
       "\n",
       "                                     Cleaned reviews  \\\n",
       "0   May flew from Seattle to Heathrow then to Edi...   \n",
       "1   I went through three flights to reach my dest...   \n",
       "2   An excellent flight in Club World on British ...   \n",
       "3   The flight schedule was delayed for one hour ...   \n",
       "4   The worst experience in all my years of trave...   \n",
       "\n",
       "                                         POS newlist  \\\n",
       "0  [(May, n), (flew, v), (Seattle, n), (Heathrow,...   \n",
       "1  [(went, v), (three, None), (flights, n), (reac...   \n",
       "2  [(excellent, a), (flight, n), (Club, n), (Worl...   \n",
       "3  [(flight, n), (schedule, n), (delayed, v), (on...   \n",
       "4  [(worst, a), (experience, n), (years, n), (tra...   \n",
       "\n",
       "                                          POS tagged  \n",
       "0  [(May, n), (flew, v), (Seattle, n), (Heathrow,...  \n",
       "1  [(went, v), (three, None), (flights, n), (reac...  \n",
       "2  [(excellent, a), (flight, n), (Club, n), (Worl...  \n",
       "3  [(flight, n), (schedule, n), (delayed, v), (on...  \n",
       "4  [(worst, a), (experience, n), (years, n), (tra...  "
      ]
     },
     "execution_count": 15,
     "metadata": {},
     "output_type": "execute_result"
    }
   ],
   "source": [
    "#The nltk.corpus package defines a collection of corpus reader classes, which can be used to access the contents of a diverse set of corpora.\n",
    "\n",
    "\n",
    "nltk.download('omw-1.4')\n",
    "nltk.download('averaged_perceptron_tagger')\n",
    "\n",
    "# POS tagger dictionary\n",
    "pos_dict = {'J':wordnet.ADJ, 'V':wordnet.VERB, 'N':wordnet.NOUN, 'R':wordnet.ADV}\n",
    "def token_stop_pos(text):\n",
    "    tags = pos_tag(word_tokenize(text))\n",
    "    newlist = []\n",
    "    for word, tag in tags:\n",
    "        if word.lower() not in set(stopwords.words('english')):\n",
    "            newlist.append(tuple([word, pos_dict.get(tag[0])]))\n",
    "    return newlist\n",
    "\n",
    "\n",
    "df['POS tagged'] = df['Cleaned reviews'].apply(token_stop_pos)\n",
    "df.head()"
   ]
  },
  {
   "cell_type": "code",
   "execution_count": 16,
   "metadata": {},
   "outputs": [
    {
     "data": {
      "text/html": [
       "<div>\n",
       "<style scoped>\n",
       "    .dataframe tbody tr th:only-of-type {\n",
       "        vertical-align: middle;\n",
       "    }\n",
       "\n",
       "    .dataframe tbody tr th {\n",
       "        vertical-align: top;\n",
       "    }\n",
       "\n",
       "    .dataframe thead th {\n",
       "        text-align: right;\n",
       "    }\n",
       "</style>\n",
       "<table border=\"1\" class=\"dataframe\">\n",
       "  <thead>\n",
       "    <tr style=\"text-align: right;\">\n",
       "      <th></th>\n",
       "      <th>reviews</th>\n",
       "      <th>Cleaned reviews</th>\n",
       "      <th>POS newlist</th>\n",
       "      <th>POS tagged</th>\n",
       "      <th>Lemma</th>\n",
       "    </tr>\n",
       "  </thead>\n",
       "  <tbody>\n",
       "    <tr>\n",
       "      <th>0</th>\n",
       "      <td>May 3, flew from Seattle to Heathrow then to...</td>\n",
       "      <td>May flew from Seattle to Heathrow then to Edi...</td>\n",
       "      <td>[(May, n), (flew, v), (Seattle, n), (Heathrow,...</td>\n",
       "      <td>[(May, n), (flew, v), (Seattle, n), (Heathrow,...</td>\n",
       "      <td>May fly Seattle Heathrow Edinburgh BA lose g...</td>\n",
       "    </tr>\n",
       "    <tr>\n",
       "      <th>1</th>\n",
       "      <td>I went through three flights to reach my dest...</td>\n",
       "      <td>I went through three flights to reach my dest...</td>\n",
       "      <td>[(went, v), (three, None), (flights, n), (reac...</td>\n",
       "      <td>[(went, v), (three, None), (flights, n), (reac...</td>\n",
       "      <td>go three flight reach destination BA flight ...</td>\n",
       "    </tr>\n",
       "    <tr>\n",
       "      <th>2</th>\n",
       "      <td>An excellent flight in Club World on British ...</td>\n",
       "      <td>An excellent flight in Club World on British ...</td>\n",
       "      <td>[(excellent, a), (flight, n), (Club, n), (Worl...</td>\n",
       "      <td>[(excellent, a), (flight, n), (Club, n), (Worl...</td>\n",
       "      <td>excellent flight Club World British Airways ...</td>\n",
       "    </tr>\n",
       "    <tr>\n",
       "      <th>3</th>\n",
       "      <td>The flight schedule was delayed for one hour....</td>\n",
       "      <td>The flight schedule was delayed for one hour ...</td>\n",
       "      <td>[(flight, n), (schedule, n), (delayed, v), (on...</td>\n",
       "      <td>[(flight, n), (schedule, n), (delayed, v), (on...</td>\n",
       "      <td>flight schedule delay one hour board plane d...</td>\n",
       "    </tr>\n",
       "    <tr>\n",
       "      <th>4</th>\n",
       "      <td>The worst experience in all my years of trave...</td>\n",
       "      <td>The worst experience in all my years of trave...</td>\n",
       "      <td>[(worst, a), (experience, n), (years, n), (tra...</td>\n",
       "      <td>[(worst, a), (experience, n), (years, n), (tra...</td>\n",
       "      <td>bad experience year travel first flight two ...</td>\n",
       "    </tr>\n",
       "  </tbody>\n",
       "</table>\n",
       "</div>"
      ],
      "text/plain": [
       "                                             reviews  \\\n",
       "0    May 3, flew from Seattle to Heathrow then to...   \n",
       "1   I went through three flights to reach my dest...   \n",
       "2   An excellent flight in Club World on British ...   \n",
       "3   The flight schedule was delayed for one hour....   \n",
       "4   The worst experience in all my years of trave...   \n",
       "\n",
       "                                     Cleaned reviews  \\\n",
       "0   May flew from Seattle to Heathrow then to Edi...   \n",
       "1   I went through three flights to reach my dest...   \n",
       "2   An excellent flight in Club World on British ...   \n",
       "3   The flight schedule was delayed for one hour ...   \n",
       "4   The worst experience in all my years of trave...   \n",
       "\n",
       "                                         POS newlist  \\\n",
       "0  [(May, n), (flew, v), (Seattle, n), (Heathrow,...   \n",
       "1  [(went, v), (three, None), (flights, n), (reac...   \n",
       "2  [(excellent, a), (flight, n), (Club, n), (Worl...   \n",
       "3  [(flight, n), (schedule, n), (delayed, v), (on...   \n",
       "4  [(worst, a), (experience, n), (years, n), (tra...   \n",
       "\n",
       "                                          POS tagged  \\\n",
       "0  [(May, n), (flew, v), (Seattle, n), (Heathrow,...   \n",
       "1  [(went, v), (three, None), (flights, n), (reac...   \n",
       "2  [(excellent, a), (flight, n), (Club, n), (Worl...   \n",
       "3  [(flight, n), (schedule, n), (delayed, v), (on...   \n",
       "4  [(worst, a), (experience, n), (years, n), (tra...   \n",
       "\n",
       "                                               Lemma  \n",
       "0    May fly Seattle Heathrow Edinburgh BA lose g...  \n",
       "1    go three flight reach destination BA flight ...  \n",
       "2    excellent flight Club World British Airways ...  \n",
       "3    flight schedule delay one hour board plane d...  \n",
       "4    bad experience year travel first flight two ...  "
      ]
     },
     "execution_count": 16,
     "metadata": {},
     "output_type": "execute_result"
    }
   ],
   "source": [
    "# Obtaining the stem words – Lemmatization\n",
    "\n",
    "from nltk.stem import WordNetLemmatizer\n",
    "wordnet_lemmatizer = WordNetLemmatizer()\n",
    "def lemmatize(pos_data):\n",
    "    lemma_rew = ' '\n",
    "    for word, pos in pos_data:\n",
    "        if not pos:\n",
    "            lemma = word \n",
    "            lemma_rew = lemma_rew + ' ' + lemma\n",
    "        else:\n",
    "            lemma = wordnet_lemmatizer.lemmatize(word, pos=pos)\n",
    "            lemma_rew = lemma_rew + ' ' + lemma\n",
    "    return lemma_rew\n",
    "\n",
    "df['Lemma'] = df['POS tagged'].apply(lemmatize)\n",
    "df.head()"
   ]
  },
  {
   "cell_type": "code",
   "execution_count": 17,
   "metadata": {},
   "outputs": [
    {
     "data": {
      "text/html": [
       "<div>\n",
       "<style scoped>\n",
       "    .dataframe tbody tr th:only-of-type {\n",
       "        vertical-align: middle;\n",
       "    }\n",
       "\n",
       "    .dataframe tbody tr th {\n",
       "        vertical-align: top;\n",
       "    }\n",
       "\n",
       "    .dataframe thead th {\n",
       "        text-align: right;\n",
       "    }\n",
       "</style>\n",
       "<table border=\"1\" class=\"dataframe\">\n",
       "  <thead>\n",
       "    <tr style=\"text-align: right;\">\n",
       "      <th></th>\n",
       "      <th>reviews</th>\n",
       "      <th>Lemma</th>\n",
       "    </tr>\n",
       "  </thead>\n",
       "  <tbody>\n",
       "    <tr>\n",
       "      <th>0</th>\n",
       "      <td>May 3, flew from Seattle to Heathrow then to...</td>\n",
       "      <td>May fly Seattle Heathrow Edinburgh BA lose g...</td>\n",
       "    </tr>\n",
       "    <tr>\n",
       "      <th>1</th>\n",
       "      <td>I went through three flights to reach my dest...</td>\n",
       "      <td>go three flight reach destination BA flight ...</td>\n",
       "    </tr>\n",
       "    <tr>\n",
       "      <th>2</th>\n",
       "      <td>An excellent flight in Club World on British ...</td>\n",
       "      <td>excellent flight Club World British Airways ...</td>\n",
       "    </tr>\n",
       "    <tr>\n",
       "      <th>3</th>\n",
       "      <td>The flight schedule was delayed for one hour....</td>\n",
       "      <td>flight schedule delay one hour board plane d...</td>\n",
       "    </tr>\n",
       "    <tr>\n",
       "      <th>4</th>\n",
       "      <td>The worst experience in all my years of trave...</td>\n",
       "      <td>bad experience year travel first flight two ...</td>\n",
       "    </tr>\n",
       "    <tr>\n",
       "      <th>...</th>\n",
       "      <td>...</td>\n",
       "      <td>...</td>\n",
       "    </tr>\n",
       "    <tr>\n",
       "      <th>995</th>\n",
       "      <td>Aberdeen to Abu Dhabi via London. Despite be...</td>\n",
       "      <td>Aberdeen Abu Dhabi via London Despite Gold M...</td>\n",
       "    </tr>\n",
       "    <tr>\n",
       "      <th>996</th>\n",
       "      <td>Prague to Denver via London. I almost missed...</td>\n",
       "      <td>Prague Denver via London almost miss flight ...</td>\n",
       "    </tr>\n",
       "    <tr>\n",
       "      <th>997</th>\n",
       "      <td>Seville to Gatwick. If it wasn't for Avios a...</td>\n",
       "      <td>Seville Gatwick Avios fantastic deal make fl...</td>\n",
       "    </tr>\n",
       "    <tr>\n",
       "      <th>998</th>\n",
       "      <td>London to Amsterdam. A delayed BA flight by ...</td>\n",
       "      <td>London Amsterdam delayed BA flight min Old a...</td>\n",
       "    </tr>\n",
       "    <tr>\n",
       "      <th>999</th>\n",
       "      <td>Gatwick to Barcelona . Check in efficient an...</td>\n",
       "      <td>Gatwick Barcelona Check efficient friendly h...</td>\n",
       "    </tr>\n",
       "  </tbody>\n",
       "</table>\n",
       "<p>1000 rows × 2 columns</p>\n",
       "</div>"
      ],
      "text/plain": [
       "                                               reviews  \\\n",
       "0      May 3, flew from Seattle to Heathrow then to...   \n",
       "1     I went through three flights to reach my dest...   \n",
       "2     An excellent flight in Club World on British ...   \n",
       "3     The flight schedule was delayed for one hour....   \n",
       "4     The worst experience in all my years of trave...   \n",
       "..                                                 ...   \n",
       "995    Aberdeen to Abu Dhabi via London. Despite be...   \n",
       "996    Prague to Denver via London. I almost missed...   \n",
       "997    Seville to Gatwick. If it wasn't for Avios a...   \n",
       "998    London to Amsterdam. A delayed BA flight by ...   \n",
       "999    Gatwick to Barcelona . Check in efficient an...   \n",
       "\n",
       "                                                 Lemma  \n",
       "0      May fly Seattle Heathrow Edinburgh BA lose g...  \n",
       "1      go three flight reach destination BA flight ...  \n",
       "2      excellent flight Club World British Airways ...  \n",
       "3      flight schedule delay one hour board plane d...  \n",
       "4      bad experience year travel first flight two ...  \n",
       "..                                                 ...  \n",
       "995    Aberdeen Abu Dhabi via London Despite Gold M...  \n",
       "996    Prague Denver via London almost miss flight ...  \n",
       "997    Seville Gatwick Avios fantastic deal make fl...  \n",
       "998    London Amsterdam delayed BA flight min Old a...  \n",
       "999    Gatwick Barcelona Check efficient friendly h...  \n",
       "\n",
       "[1000 rows x 2 columns]"
      ]
     },
     "execution_count": 17,
     "metadata": {},
     "output_type": "execute_result"
    }
   ],
   "source": [
    "df[['reviews','Lemma']]"
   ]
  },
  {
   "cell_type": "markdown",
   "metadata": {},
   "source": [
    "# Sentiment Analysis using VADER\n",
    "\n",
    "VADER stands for Valence Aware Dictionary and Sentiment Reasoner.\n",
    "\n",
    "Vader sentiment not only tells if the statement is positive or negative along with the intensity of emotion.\n",
    "\n"
   ]
  },
  {
   "cell_type": "code",
   "execution_count": 18,
   "metadata": {},
   "outputs": [
    {
     "name": "stdout",
     "output_type": "stream",
     "text": [
      "Collecting vaderSentiment\n",
      "  Downloading vaderSentiment-3.3.2-py2.py3-none-any.whl (125 kB)\n",
      "     -------------------------------------- 126.0/126.0 kB 2.5 MB/s eta 0:00:00\n",
      "Requirement already satisfied: requests in c:\\users\\asus\\anaconda3\\lib\\site-packages (from vaderSentiment) (2.28.1)\n",
      "Requirement already satisfied: idna<4,>=2.5 in c:\\users\\asus\\anaconda3\\lib\\site-packages (from requests->vaderSentiment) (3.3)\n",
      "Requirement already satisfied: charset-normalizer<3,>=2 in c:\\users\\asus\\anaconda3\\lib\\site-packages (from requests->vaderSentiment) (2.0.4)\n",
      "Requirement already satisfied: urllib3<1.27,>=1.21.1 in c:\\users\\asus\\anaconda3\\lib\\site-packages (from requests->vaderSentiment) (1.26.11)\n",
      "Requirement already satisfied: certifi>=2017.4.17 in c:\\users\\asus\\anaconda3\\lib\\site-packages (from requests->vaderSentiment) (2022.12.7)\n",
      "Installing collected packages: vaderSentiment\n",
      "Successfully installed vaderSentiment-3.3.2\n"
     ]
    }
   ],
   "source": [
    "!pip install vaderSentiment"
   ]
  },
  {
   "cell_type": "code",
   "execution_count": 19,
   "metadata": {},
   "outputs": [
    {
     "data": {
      "text/html": [
       "<div>\n",
       "<style scoped>\n",
       "    .dataframe tbody tr th:only-of-type {\n",
       "        vertical-align: middle;\n",
       "    }\n",
       "\n",
       "    .dataframe tbody tr th {\n",
       "        vertical-align: top;\n",
       "    }\n",
       "\n",
       "    .dataframe thead th {\n",
       "        text-align: right;\n",
       "    }\n",
       "</style>\n",
       "<table border=\"1\" class=\"dataframe\">\n",
       "  <thead>\n",
       "    <tr style=\"text-align: right;\">\n",
       "      <th></th>\n",
       "      <th>reviews</th>\n",
       "      <th>Cleaned reviews</th>\n",
       "      <th>POS newlist</th>\n",
       "      <th>POS tagged</th>\n",
       "      <th>Lemma</th>\n",
       "      <th>Sentiment</th>\n",
       "      <th>Analysis</th>\n",
       "    </tr>\n",
       "  </thead>\n",
       "  <tbody>\n",
       "    <tr>\n",
       "      <th>0</th>\n",
       "      <td>May 3, flew from Seattle to Heathrow then to...</td>\n",
       "      <td>May flew from Seattle to Heathrow then to Edi...</td>\n",
       "      <td>[(May, n), (flew, v), (Seattle, n), (Heathrow,...</td>\n",
       "      <td>[(May, n), (flew, v), (Seattle, n), (Heathrow,...</td>\n",
       "      <td>May fly Seattle Heathrow Edinburgh BA lose g...</td>\n",
       "      <td>-0.7717</td>\n",
       "      <td>Negative</td>\n",
       "    </tr>\n",
       "    <tr>\n",
       "      <th>1</th>\n",
       "      <td>I went through three flights to reach my dest...</td>\n",
       "      <td>I went through three flights to reach my dest...</td>\n",
       "      <td>[(went, v), (three, None), (flights, n), (reac...</td>\n",
       "      <td>[(went, v), (three, None), (flights, n), (reac...</td>\n",
       "      <td>go three flight reach destination BA flight ...</td>\n",
       "      <td>-0.4767</td>\n",
       "      <td>Negative</td>\n",
       "    </tr>\n",
       "    <tr>\n",
       "      <th>2</th>\n",
       "      <td>An excellent flight in Club World on British ...</td>\n",
       "      <td>An excellent flight in Club World on British ...</td>\n",
       "      <td>[(excellent, a), (flight, n), (Club, n), (Worl...</td>\n",
       "      <td>[(excellent, a), (flight, n), (Club, n), (Worl...</td>\n",
       "      <td>excellent flight Club World British Airways ...</td>\n",
       "      <td>0.9899</td>\n",
       "      <td>Positive</td>\n",
       "    </tr>\n",
       "    <tr>\n",
       "      <th>3</th>\n",
       "      <td>The flight schedule was delayed for one hour....</td>\n",
       "      <td>The flight schedule was delayed for one hour ...</td>\n",
       "      <td>[(flight, n), (schedule, n), (delayed, v), (on...</td>\n",
       "      <td>[(flight, n), (schedule, n), (delayed, v), (on...</td>\n",
       "      <td>flight schedule delay one hour board plane d...</td>\n",
       "      <td>-0.8402</td>\n",
       "      <td>Negative</td>\n",
       "    </tr>\n",
       "    <tr>\n",
       "      <th>4</th>\n",
       "      <td>The worst experience in all my years of trave...</td>\n",
       "      <td>The worst experience in all my years of trave...</td>\n",
       "      <td>[(worst, a), (experience, n), (years, n), (tra...</td>\n",
       "      <td>[(worst, a), (experience, n), (years, n), (tra...</td>\n",
       "      <td>bad experience year travel first flight two ...</td>\n",
       "      <td>-0.8910</td>\n",
       "      <td>Negative</td>\n",
       "    </tr>\n",
       "  </tbody>\n",
       "</table>\n",
       "</div>"
      ],
      "text/plain": [
       "                                             reviews  \\\n",
       "0    May 3, flew from Seattle to Heathrow then to...   \n",
       "1   I went through three flights to reach my dest...   \n",
       "2   An excellent flight in Club World on British ...   \n",
       "3   The flight schedule was delayed for one hour....   \n",
       "4   The worst experience in all my years of trave...   \n",
       "\n",
       "                                     Cleaned reviews  \\\n",
       "0   May flew from Seattle to Heathrow then to Edi...   \n",
       "1   I went through three flights to reach my dest...   \n",
       "2   An excellent flight in Club World on British ...   \n",
       "3   The flight schedule was delayed for one hour ...   \n",
       "4   The worst experience in all my years of trave...   \n",
       "\n",
       "                                         POS newlist  \\\n",
       "0  [(May, n), (flew, v), (Seattle, n), (Heathrow,...   \n",
       "1  [(went, v), (three, None), (flights, n), (reac...   \n",
       "2  [(excellent, a), (flight, n), (Club, n), (Worl...   \n",
       "3  [(flight, n), (schedule, n), (delayed, v), (on...   \n",
       "4  [(worst, a), (experience, n), (years, n), (tra...   \n",
       "\n",
       "                                          POS tagged  \\\n",
       "0  [(May, n), (flew, v), (Seattle, n), (Heathrow,...   \n",
       "1  [(went, v), (three, None), (flights, n), (reac...   \n",
       "2  [(excellent, a), (flight, n), (Club, n), (Worl...   \n",
       "3  [(flight, n), (schedule, n), (delayed, v), (on...   \n",
       "4  [(worst, a), (experience, n), (years, n), (tra...   \n",
       "\n",
       "                                               Lemma  Sentiment  Analysis  \n",
       "0    May fly Seattle Heathrow Edinburgh BA lose g...    -0.7717  Negative  \n",
       "1    go three flight reach destination BA flight ...    -0.4767  Negative  \n",
       "2    excellent flight Club World British Airways ...     0.9899  Positive  \n",
       "3    flight schedule delay one hour board plane d...    -0.8402  Negative  \n",
       "4    bad experience year travel first flight two ...    -0.8910  Negative  "
      ]
     },
     "execution_count": 19,
     "metadata": {},
     "output_type": "execute_result"
    }
   ],
   "source": [
    "from vaderSentiment.vaderSentiment import SentimentIntensityAnalyzer\n",
    "analyzer = SentimentIntensityAnalyzer()\n",
    "\n",
    "# function to calculate vander sentiment \n",
    "def vandersentimentanalysis(review):\n",
    "    vs = analyzer.polarity_scores(review)\n",
    "    return vs['compound']\n",
    "\n",
    "df['Sentiment'] = df['Lemma'].apply(vandersentimentanalysis)\n",
    "\n",
    "# function to analyse\n",
    "def vander_analysis(compound):\n",
    "    if compound >= 0.5:\n",
    "        return 'Positive'\n",
    "    elif compound < 0:\n",
    "        return 'Negative'\n",
    "    else:\n",
    "        return 'Netural'\n",
    "df['Analysis'] = df['Sentiment'].apply(vander_analysis)\n",
    "df.head()"
   ]
  },
  {
   "cell_type": "code",
   "execution_count": 20,
   "metadata": {},
   "outputs": [
    {
     "data": {
      "text/plain": [
       "Positive    514\n",
       "Negative    380\n",
       "Netural     106\n",
       "Name: Analysis, dtype: int64"
      ]
     },
     "execution_count": 20,
     "metadata": {},
     "output_type": "execute_result"
    }
   ],
   "source": [
    "vander_counts = df['Analysis'].value_counts()\n",
    "vander_counts "
   ]
  },
  {
   "cell_type": "markdown",
   "metadata": {},
   "source": [
    "# Visual Representation"
   ]
  },
  {
   "cell_type": "code",
   "execution_count": 24,
   "metadata": {},
   "outputs": [
    {
     "data": {
      "text/plain": [
       "([<matplotlib.patches.Wedge at 0x141537fbd60>,\n",
       "  <matplotlib.patches.Wedge at 0x141538093d0>,\n",
       "  <matplotlib.patches.Wedge at 0x14153809af0>],\n",
       " [Text(-0.04836492521093929, 1.0989362283632933, 'Positive'),\n",
       "  Text(-0.3847760353497482, -1.2940044059509725, 'Negative'),\n",
       "  Text(1.5121008978600008, -0.5230209122883903, 'Netural')],\n",
       " [Text(-0.026380868296875973, 0.5994197609254327, '51.4%'),\n",
       "  Text(-0.24226639262761923, -0.8147435148580197, '38.0%'),\n",
       "  Text(1.0395693672787503, -0.35957687719826836, '10.6%')])"
      ]
     },
     "execution_count": 24,
     "metadata": {},
     "output_type": "execute_result"
    },
    {
     "data": {
      "image/png": "[encoded data removed]",
      "text/plain": [
       "<Figure size 1500x700 with 1 Axes>"
      ]
     },
     "metadata": {},
     "output_type": "display_data"
    }
   ],
   "source": [
    "import matplotlib.pyplot as plt\n",
    "%matplotlib inline \n",
    "plt.figure(figsize=(15, 7))\n",
    "\n",
    "plt.subplot(1,3,2)\n",
    "plt.title(\"Review Analysis\")\n",
    "plt.pie(vander_counts.values, labels=vander_counts.index, explode = (0, 0.25, 0.5), autopct=\"%1.1f%%\", shadow=False)"
   ]
  },
  {
   "cell_type": "code",
   "execution_count": 25,
   "metadata": {},
   "outputs": [],
   "source": [
    "df.to_csv(\"BA_reviews.csv\")"
   ]
  },
  {
   "cell_type": "markdown",
   "metadata": {},
   "source": [
    "# Wordcloud\n",
    "\n",
    "Word Cloud or Tag Clouds is a visualization technique for texts that are natively used for visualizing the tags or keywords from the websites"
   ]
  },
  {
   "cell_type": "code",
   "execution_count": null,
   "metadata": {},
   "outputs": [],
   "source": [
    "from wordcloud import WordCloud, STOPWORDS\n",
    "stopwords = set(STOPWORDS)\n",
    "\n",
    "def show_wordcloud(data):\n",
    "    wordcloud = WordCloud(\n",
    "        background_color='white',\n",
    "        stopwords=stopwords,\n",
    "        max_words=100,\n",
    "        max_font_size=30,\n",
    "        scale=3,\n",
    "        random_state=1)\n",
    "    \n",
    "    wordcloud = wordcloud.generate(str(data))\n",
    "    \n",
    "    fig = plt.figure(1, figsize=(12, 12))\n",
    "    plt.axis('off')\n",
    "    \n",
    "    plt.imshow(wordcloud)\n",
    "    plt.show()\n",
    "    \n",
    "show_wordcloud(df.Lemma)"
   ]
  },
  {
   "cell_type": "code",
   "execution_count": null,
   "metadata": {},
   "outputs": [],
   "source": []
  }
 ],
 "metadata": {
  "kernelspec": {
   "display_name": "Python 3 (ipykernel)",
   "language": "python",
   "name": "python3"
  },
  "language_info": {
   "codemirror_mode": {
    "name": "ipython",
    "version": 3
   },
   "file_extension": ".py",
   "mimetype": "text/x-python",
   "name": "python",
   "nbconvert_exporter": "python",
   "pygments_lexer": "ipython3",
   "version": "3.9.13"
  },
  "varInspector": {
   "cols": {
    "lenName": 16,
    "lenType": 16,
    "lenVar": 40
   },
   "kernels_config": {
    "python": {
     "delete_cmd_postfix": "",
     "delete_cmd_prefix": "del ",
     "library": "var_list.py",
     "varRefreshCmd": "print(var_dic_list())"
    },
    "r": {
     "delete_cmd_postfix": ") ",
     "delete_cmd_prefix": "rm(",
     "library": "var_list.r",
     "varRefreshCmd": "cat(var_dic_list()) "
    }
   },
   "types_to_exclude": [
    "module",
    "function",
    "builtin_function_or_method",
    "instance",
    "_Feature"
   ],
   "window_display": false
  },
  "vscode": {
   "interpreter": {
    "hash": "4f7924c4c56b083e0e50eadfe7ef592a7a8ef70df33a0047f82280e6be1afe15"
   }
  }
 },
 "nbformat": 4,
 "nbformat_minor": 2
}
